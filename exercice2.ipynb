{
 "cells": [
  {
   "cell_type": "code",
   "execution_count": 1,
   "id": "1256d119",
   "metadata": {},
   "outputs": [],
   "source": [
    "import numpy as np"
   ]
  },
  {
   "cell_type": "code",
   "execution_count": null,
   "id": "b735e832",
   "metadata": {},
   "outputs": [],
   "source": [
    "def estimate_test_size(m=95, n=100, pi=0.5, alpha=0.1, num_simulations=10000):\n",
    "    \"\"\"\n",
    "    Estimate the actual size of the chi-squared test for H0: p = q.\n",
    "    \n",
    "    Parameters:\n",
    "    - m, n: Sample sizes\n",
    "    - alpha: Nominal significance level\n",
    "    - pi: True probability under H0 (p = q = pi)\n",
    "    - num_simulations: Number of simulated datasets\n",
    "    \n",
    "    Returns:\n",
    "    - empirical_size: Proportion of times H0 is rejected\n",
    "    \"\"\"\n",
    "    rejections = 0 \n",
    "\n",
    "    for _ in range(num_simulations):\n",
    "        # Simulate data\n",
    "        S_x = np.random.binomial(m, pi)\n",
    "        S_y = np.random.binomial(n, pi)\n",
    "        S = S_x + S_y\n",
    "        F_x = m - S_x\n",
    "        F_y = n - S_y\n",
    "        F = F_x + F_y\n",
    "\n",
    "        # Compute test statistic\n",
    "        test_statistic = (m + n)*((S_x * F_y) - (S_y * F_x))**2 / (m * n * S * F)\n",
    "\n",
    "        # Compute critical value for chi-squared distribution\n",
    "        critical_value = np.percentile(np.random.chisquare(1, num_simulations), 100 * (1 - alpha))\n",
    "\n",
    "        # Check if we reject H0\n",
    "        if test_statistic > critical_value:\n",
    "            rejections += 1\n",
    "\n",
    "    # Calculate empirical size\n",
    "    empirical_size = rejections / num_simulations\n",
    "    return empirical_size\n"
   ]
  },
  {
   "cell_type": "code",
   "execution_count": 24,
   "id": "89e11718",
   "metadata": {},
   "outputs": [
    {
     "name": "stdout",
     "output_type": "stream",
     "text": [
      "True probability (pi): 0.10, Empirical size: 0.1031\n",
      "True probability (pi): 0.20, Empirical size: 0.0994\n",
      "True probability (pi): 0.30, Empirical size: 0.1019\n",
      "True probability (pi): 0.40, Empirical size: 0.0960\n",
      "True probability (pi): 0.50, Empirical size: 0.0986\n",
      "True probability (pi): 0.60, Empirical size: 0.0929\n",
      "True probability (pi): 0.70, Empirical size: 0.0985\n",
      "True probability (pi): 0.80, Empirical size: 0.1000\n",
      "True probability (pi): 0.90, Empirical size: 0.1057\n"
     ]
    }
   ],
   "source": [
    "m = 95\n",
    "n = 100\n",
    "pi = np.linspace(0.1, 0.9, 9)\n",
    "alpha = 0.1\n",
    "num_simulations = 10000\n",
    "\n",
    "empirical_sizes = np.zeros(len(pi))\n",
    "for i in range(len(pi)):\n",
    "    empirical_sizes[i] = estimate_test_size(m, n, pi[i], alpha, num_simulations)\n",
    "    print(f\"True probability (pi): {pi[i]:.2f}, Empirical size: {empirical_sizes[i]:.4f}\")\n"
   ]
  },
  {
   "cell_type": "code",
   "execution_count": null,
   "id": "8aa08c16",
   "metadata": {},
   "outputs": [
    {
     "data": {
      "text/plain": [
       "0.09956666666666666"
      ]
     },
     "execution_count": 28,
     "metadata": {},
     "output_type": "execute_result"
    }
   ],
   "source": [
    "np.mean(empirical_sizes)"
   ]
  },
  {
   "cell_type": "code",
   "execution_count": null,
   "id": "ea252bb6",
   "metadata": {},
   "outputs": [],
   "source": []
  }
 ],
 "metadata": {
  "kernelspec": {
   "display_name": "dataScience",
   "language": "python",
   "name": "python3"
  },
  "language_info": {
   "codemirror_mode": {
    "name": "ipython",
    "version": 3
   },
   "file_extension": ".py",
   "mimetype": "text/x-python",
   "name": "python",
   "nbconvert_exporter": "python",
   "pygments_lexer": "ipython3",
   "version": "3.12.6"
  }
 },
 "nbformat": 4,
 "nbformat_minor": 5
}
