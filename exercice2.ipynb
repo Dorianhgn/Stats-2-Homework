{
 "cells": [
  {
   "cell_type": "code",
   "execution_count": 12,
   "id": "1256d119",
   "metadata": {},
   "outputs": [],
   "source": [
    "import numpy as np\n",
    "from scipy.stats import chi2, chi2_contingency"
   ]
  },
  {
   "cell_type": "code",
   "execution_count": null,
   "id": "b735e832",
   "metadata": {},
   "outputs": [],
   "source": [
    "def estimate_test_size(m=95, n=100, pi=0.5, alpha=0.1, num_simulations=10000):\n",
    "    \"\"\"\n",
    "    Estimate the actual size of the chi-squared test for H0: p = q.\n",
    "    \n",
    "    Parameters:\n",
    "    - m, n: Sample sizes\n",
    "    - alpha: Nominal significance level\n",
    "    - pi: True probability under H0 (p = q = pi)\n",
    "    - num_simulations: Number of simulated datasets\n",
    "    \n",
    "    Returns:\n",
    "    - empirical_size: Proportion of times H0 is rejected\n",
    "    \"\"\"\n",
    "    rejections = 0 \n",
    "\n",
    "    for _ in range(num_simulations):\n",
    "        # Simulate data\n",
    "        S_x = np.random.binomial(m, pi)\n",
    "        S_y = np.random.binomial(n, pi)\n",
    "        S = S_x + S_y\n",
    "        F_x = m - S_x\n",
    "        F_y = n - S_y\n",
    "        F = F_x + F_y\n",
    "        E_Sx = m * S / (m + n)\n",
    "        E_Sy = n * S / (m + n)\n",
    "        E_Fx = m - E_Sx\n",
    "        E_Fy = n - E_Sy\n",
    "\n",
    "        # Compute test statistic\n",
    "        # test_statistic = (m + n)*((S_x * F_y) - (S_y * F_x))**2 / (m * n * S * F)\n",
    "        test_statistic = (S_x - E_Sx)**2 / E_Sx + (S_y - E_Sy)**2 / E_Sy + (F_x - E_Fx)**2 / E_Fx + (F_y - E_Fy)**2 / E_Fy\n",
    "\n",
    "        # Compute critical value for chi-squared distribution\n",
    "        critical_value = np.percentile(np.random.chisquare(1, num_simulations), 100 * (1 - alpha))\n",
    "        # critical_value = chi2.ppf(1 - alpha, 1)  # Uncomment if scipy is available\n",
    "\n",
    "        # Check if we reject H0\n",
    "        if test_statistic > critical_value:\n",
    "            rejections += 1\n",
    "\n",
    "    # Calculate empirical size\n",
    "    empirical_size = rejections / num_simulations\n",
    "    return empirical_size\n"
   ]
  },
  {
   "cell_type": "markdown",
   "id": "87ea2878",
   "metadata": {},
   "source": [
    "This function above is doing to many approximations with all the calculations. I will use Scipy to do the calculations."
   ]
  },
  {
   "cell_type": "code",
   "execution_count": 17,
   "id": "dd561059",
   "metadata": {},
   "outputs": [],
   "source": [
    "def estimate_test_size1(m=95, n=100, pi=0.5, alpha=0.1, num_simulations=10000):\n",
    "    rejections = 0 \n",
    "\n",
    "    for _ in range(num_simulations):\n",
    "        # Simulate data\n",
    "        S_x = np.random.binomial(m, pi)\n",
    "        S_y = np.random.binomial(n, pi)\n",
    "        F_x = m - S_x\n",
    "        F_y = n - S_y\n",
    "\n",
    "        # Build the contingency table\n",
    "        table = np.array([[S_x, F_x],\n",
    "                        [S_y, F_y]])\n",
    "\n",
    "        # Get the test statistic from scipy\n",
    "        chi2_stat, p_value, dof, expected = chi2_contingency(table, correction=False)\n",
    "\n",
    "        # Check if we reject H0\n",
    "        if p_value < alpha:\n",
    "            rejections += 1\n",
    "    \n",
    "    # return empirical size\n",
    "    return rejections / num_simulations\n",
    "    "
   ]
  },
  {
   "cell_type": "code",
   "execution_count": 18,
   "id": "89e11718",
   "metadata": {},
   "outputs": [
    {
     "name": "stdout",
     "output_type": "stream",
     "text": [
      "True probability (pi): 0.10, Empirical size: 0.0993\n",
      "True probability (pi): 0.20, Empirical size: 0.1034\n",
      "True probability (pi): 0.30, Empirical size: 0.0970\n",
      "True probability (pi): 0.40, Empirical size: 0.0915\n",
      "True probability (pi): 0.50, Empirical size: 0.0970\n",
      "True probability (pi): 0.60, Empirical size: 0.0909\n",
      "True probability (pi): 0.70, Empirical size: 0.1002\n",
      "True probability (pi): 0.80, Empirical size: 0.1003\n",
      "True probability (pi): 0.90, Empirical size: 0.1054\n"
     ]
    }
   ],
   "source": [
    "m = 95\n",
    "n = 100\n",
    "pi = np.linspace(0.1, 0.9, 9)\n",
    "alpha = 0.1\n",
    "num_simulations = 10000\n",
    "\n",
    "empirical_sizes = np.zeros(len(pi))\n",
    "for i in range(len(pi)):\n",
    "    empirical_sizes[i] = estimate_test_size1(m, n, pi[i], alpha, num_simulations)\n",
    "    print(f\"True probability (pi): {pi[i]:.2f}, Empirical size: {empirical_sizes[i]:.4f}\")\n"
   ]
  }
 ],
 "metadata": {
  "kernelspec": {
   "display_name": "dataScience",
   "language": "python",
   "name": "python3"
  },
  "language_info": {
   "codemirror_mode": {
    "name": "ipython",
    "version": 3
   },
   "file_extension": ".py",
   "mimetype": "text/x-python",
   "name": "python",
   "nbconvert_exporter": "python",
   "pygments_lexer": "ipython3",
   "version": "3.12.6"
  }
 },
 "nbformat": 4,
 "nbformat_minor": 5
}
