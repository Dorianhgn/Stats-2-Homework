{
 "cells": [
  {
   "cell_type": "markdown",
   "id": "d55cd302",
   "metadata": {},
   "source": [
    "## Question 2.a"
   ]
  },
  {
   "cell_type": "code",
   "execution_count": 4,
   "id": "5b3d6480",
   "metadata": {
    "vscode": {
     "languageId": "r"
    }
   },
   "outputs": [],
   "source": [
    "estimate_test_size <- function(m = 95, n = 100, p = 0.5, q = 0.5, alpha = 0.1, num_simulations = 10000) {\n",
    "  # estimate the empircial size of the chi-squared test for independence\n",
    "  rejections <- 0\n",
    "  \n",
    "  for (i in 1:num_simulations) {\n",
    "    # Simulate data\n",
    "    S_x <- rbinom(1, m, p)\n",
    "    S_y <- rbinom(1, n, q)\n",
    "    F_x <- m - S_x\n",
    "    F_y <- n - S_y\n",
    "    \n",
    "    # Contingency table\n",
    "    table <- matrix(c(S_x, F_x, S_y, F_y), nrow = 2, byrow = TRUE)\n",
    "    \n",
    "    # Perform chi-squared test without Yates' correction\n",
    "    test <- suppressWarnings(chisq.test(table, correct = FALSE))\n",
    "    \n",
    "    # Reject H0 if p-value < alpha\n",
    "    if (test$p.value < alpha) {\n",
    "      rejections <- rejections + 1\n",
    "    }\n",
    "  }\n",
    "  \n",
    "  empirical_size <- rejections / num_simulations\n",
    "  return(empirical_size)\n",
    "}"
   ]
  },
  {
   "cell_type": "code",
   "execution_count": 5,
   "id": "a5d93d3d",
   "metadata": {
    "vscode": {
     "languageId": "r"
    }
   },
   "outputs": [
    {
     "name": "stdout",
     "output_type": "stream",
     "text": [
      "True probability (pi): 0.10, Empirical size: 0.1010\n",
      "True probability (pi): 0.20, Empirical size: 0.0987\n",
      "True probability (pi): 0.30, Empirical size: 0.1046\n",
      "True probability (pi): 0.40, Empirical size: 0.0988\n",
      "True probability (pi): 0.50, Empirical size: 0.1062\n",
      "True probability (pi): 0.60, Empirical size: 0.0935\n",
      "True probability (pi): 0.70, Empirical size: 0.0996\n",
      "True probability (pi): 0.80, Empirical size: 0.0977\n",
      "True probability (pi): 0.90, Empirical size: 0.0993\n"
     ]
    }
   ],
   "source": [
    "m <- 95\n",
    "n <- 100\n",
    "pi_vals <- seq(0.1, 0.9, by = 0.1)\n",
    "alpha <- 0.1\n",
    "num_simulations <- 10000\n",
    "\n",
    "empirical_sizes <- numeric(length(pi_vals))\n",
    "for (i in seq_along(pi_vals)) {\n",
    "  empirical_sizes[i] <- estimate_test_size(m, n, pi_vals[i], pi_vals[i], alpha, num_simulations)\n",
    "  cat(sprintf(\"True probability (pi): %.2f, Empirical size: %.4f\\n\", pi_vals[i], empirical_sizes[i]))\n",
    "}"
   ]
  },
  {
   "cell_type": "markdown",
   "id": "94873023",
   "metadata": {},
   "source": [
    "## Question 2.b\n",
    "\n",
    "Here I will find the m that minimize the function estimate_test_size with 10 000 simulations."
   ]
  },
  {
   "cell_type": "code",
   "execution_count": 11,
   "id": "08010df2",
   "metadata": {
    "vscode": {
     "languageId": "r"
    }
   },
   "outputs": [
    {
     "name": "stdout",
     "output_type": "stream",
     "text": [
      "Optimal m: 1448.00\n"
     ]
    }
   ],
   "source": [
    "f_m <- function(m) {\n",
    "  abs(estimate_test_size(m = round(m), n = round(m), p = 0.525, q = 0.475, alpha = 0.1, num_simulations = 50000) - 0.85)\n",
    "}\n",
    "\n",
    "result <- optimize(f_m, interval = c(100, 2000), maximum = FALSE)\n",
    "cat(sprintf(\"Optimal m: %.2f\\n\", ceiling(result$minimum)))"
   ]
  },
  {
   "cell_type": "code",
   "execution_count": null,
   "id": "1eb86e6e",
   "metadata": {
    "vscode": {
     "languageId": "r"
    }
   },
   "outputs": [],
   "source": []
  }
 ],
 "metadata": {
  "kernelspec": {
   "display_name": "R",
   "language": "R",
   "name": "ir"
  },
  "language_info": {
   "codemirror_mode": "r",
   "file_extension": ".r",
   "mimetype": "text/x-r-source",
   "name": "R",
   "pygments_lexer": "r",
   "version": "4.4.1"
  }
 },
 "nbformat": 4,
 "nbformat_minor": 5
}
