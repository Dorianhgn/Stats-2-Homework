{
 "cells": [
  {
   "cell_type": "markdown",
   "id": "45b291e2",
   "metadata": {},
   "source": [
    "# Question 5.a"
   ]
  },
  {
   "cell_type": "markdown",
   "id": "7b9483d4",
   "metadata": {},
   "source": [
    "### (i) Exact test size of the LRT test"
   ]
  },
  {
   "cell_type": "code",
   "execution_count": 1,
   "id": "5ae84ab4",
   "metadata": {
    "vscode": {
     "languageId": "r"
    }
   },
   "outputs": [],
   "source": [
    "n <- 80\n",
    "p <- c(1/6, 1/6, 1/6, 3/10, 2/10)"
   ]
  },
  {
   "cell_type": "code",
   "execution_count": 2,
   "id": "c79b554b",
   "metadata": {
    "vscode": {
     "languageId": "r"
    }
   },
   "outputs": [],
   "source": [
    "# generate all integer combinations t0, t1, t2, t3, t4 such that t0 + t1 + t2 + t3 + t4 = n\n",
    "grid <- expand.grid(t0 = 0:n, t1 = 0:n, t2 = 0:n, t3 = 0:n)\n",
    "grid <- subset(grid, t0 + t1 + t2 + t3 <= n) # filter combinations that sum maximum to n\n",
    "grid$t4 <- n - (grid$t0 + grid$t1 + grid$t2 + grid$t3) # add t4 to the grid\n",
    "# grid$t4 # technically, there are no t4 negatives values\n"
   ]
  },
  {
   "cell_type": "code",
   "execution_count": 3,
   "id": "d87b0a60",
   "metadata": {
    "vscode": {
     "languageId": "r"
    }
   },
   "outputs": [],
   "source": [
    "# compute the statistic Lambda for each combination\n",
    "log_ratio <- function(t, p, n) {\n",
    "  terms <- ifelse(t > 0, t * log(t / (n * p)), 0) \n",
    "  return(2 * sum(terms))\n",
    "}\n",
    "\n",
    "lambda <- apply(grid, 1, function(t) log_ratio(t, p, n))"
   ]
  },
  {
   "cell_type": "code",
   "execution_count": 36,
   "id": "21d690fe",
   "metadata": {
    "vscode": {
     "languageId": "r"
    }
   },
   "outputs": [],
   "source": [
    "# compute the probability of each combination using multinomial distribution\n",
    "prob <- function(t, n) {\n",
    "  return(dmultinom(t, size = n, prob = p))\n",
    "}\n",
    "\n",
    "probs <- apply(grid, 1, function(t) prob(t, n))"
   ]
  },
  {
   "cell_type": "code",
   "execution_count": 37,
   "id": "0ec299e6",
   "metadata": {
    "vscode": {
     "languageId": "r"
    }
   },
   "outputs": [],
   "source": [
    "# chi squared quantile\n",
    "alpha <- 0.05\n",
    "q <- qchisq(1 - alpha, df = length(p) - 1) # 4 degrees of freedom"
   ]
  },
  {
   "cell_type": "code",
   "execution_count": null,
   "id": "feefd1e5",
   "metadata": {
    "vscode": {
     "languageId": "r"
    }
   },
   "outputs": [
    {
     "name": "stdout",
     "output_type": "stream",
     "text": [
      "Exact size of the test: 0.05274593 \n"
     ]
    }
   ],
   "source": [
    "# compute the exact size of the test\n",
    "size <- sum(probs[lambda > q]) # sum of probabilities for lambda > q\n",
    "cat(\"Exact size of the test:\", size, \"\\n\")"
   ]
  },
  {
   "cell_type": "markdown",
   "id": "b9babdd7",
   "metadata": {},
   "source": [
    "### (ii) Exact test size of the Pearson test"
   ]
  },
  {
   "cell_type": "code",
   "execution_count": null,
   "id": "87d33ab7",
   "metadata": {
    "vscode": {
     "languageId": "r"
    }
   },
   "outputs": [],
   "source": [
    "n <- 80\n",
    "p <- c(1/6, 1/6, 1/6, 3/10, 2/10)\n",
    "\n",
    "# generate the grid\n",
    "grid <- expand.grid(t0 = 0:n, t1 = 0:n, t2 = 0:n, t3 = 0:n)\n",
    "grid <- subset(grid, t0 + t1 + t2 + t3 <= n) # filter combinations that sum maximum to n\n",
    "grid$t4 <- n - (grid$t0 + grid$t1 + grid$t2 + grid$t3) # add t4 to the grid\n",
    "\n",
    "grid_matrix <- as.matrix(grid) # matrix to speed up calculations\n",
    "\n",
    "# compute Pearson statistic for each row\n",
    "pearson <- function(t, p, n) {\n",
    "  expected <- n * p\n",
    "  sum((t - expected)^2 / expected)\n",
    "}\n",
    "Q <- apply(grid_matrix, 1, function(t) pearson(t, p, n))\n",
    "\n",
    "# compute the multinomial probabilities under H0\n",
    "probs <- apply(grid_matrix, 1, function(t) dmultinom(t, prob = p))\n",
    "\n",
    "# compute the exact size\n",
    "alpha_pearson <- sum(probs[Q > q])"
   ]
  },
  {
   "cell_type": "code",
   "execution_count": 58,
   "id": "8feeefd7",
   "metadata": {
    "vscode": {
     "languageId": "r"
    }
   },
   "outputs": [
    {
     "name": "stdout",
     "output_type": "stream",
     "text": [
      "Exact size of the test using Pearson's statistic: 0.0489614 \n"
     ]
    }
   ],
   "source": [
    "cat(\"Exact size of the test using Pearson's statistic:\", alpha_pearson, \"\\n\")"
   ]
  },
  {
   "cell_type": "markdown",
   "id": "de83f0dd",
   "metadata": {},
   "source": [
    "## # Question 5.b\n",
    "### (ii) Proportion of rejections for the LRT test"
   ]
  },
  {
   "cell_type": "code",
   "execution_count": 4,
   "id": "b6aa3939",
   "metadata": {
    "vscode": {
     "languageId": "r"
    }
   },
   "outputs": [
    {
     "name": "stdout",
     "output_type": "stream",
     "text": [
      "0.15 0.4 0.1 0.25 0.1"
     ]
    }
   ],
   "source": [
    "p2 <- 0.1\n",
    "p1 <- 4*p2\n",
    "p0 <- 0.15\n",
    "p3 <- 0.25\n",
    "p4 <- 1 - p0 - p1 - p2 - p3 # 0.1\n",
    "p <- c(p0, p1, p2, p3, p4)\n",
    "cat(p)"
   ]
  },
  {
   "cell_type": "code",
   "execution_count": null,
   "id": "0a39289f",
   "metadata": {
    "vscode": {
     "languageId": "r"
    }
   },
   "outputs": [],
   "source": [
    "N = 13000 # number of simulations\n",
    "n <- 45 # sample size\n",
    "alpha <- 0.05 \n",
    "q <- qchisq(1 - alpha, df = 1) # ~3.84\n",
    "\n",
    "log_ratio <- function(t, p, n) {\n",
    "  terms <- ifelse(t > 0, t * log(t / (n * p)), 0) \n",
    "  return(2 * sum(terms))\n",
    "}\n",
    "\n",
    "rejections <- 0 # initialization\n",
    "\n",
    "for (i in 1:N) {\n",
    "  # generate the data\n",
    "  t <- rmultinom(1, n, p)\n",
    "\n",
    "  # compute the statistic\n",
    "  lambda <- log_ratio(t, p, n)\n",
    "\n",
    "  # compute the p-value\n",
    "  if (lambda > q) {\n",
    "    rejections <- rejections + 1 # increment rejection count\n",
    "  }\n",
    "}"
   ]
  },
  {
   "cell_type": "code",
   "execution_count": 9,
   "id": "74ce0ba9",
   "metadata": {
    "vscode": {
     "languageId": "r"
    }
   },
   "outputs": [
    {
     "name": "stdout",
     "output_type": "stream",
     "text": [
      "Rejection rate: 0.4454615 \n"
     ]
    }
   ],
   "source": [
    "cat(\"Rejection rate:\", rejections / N, \"\\n\")"
   ]
  },
  {
   "cell_type": "code",
   "execution_count": null,
   "id": "39d5bb44",
   "metadata": {
    "vscode": {
     "languageId": "r"
    }
   },
   "outputs": [],
   "source": []
  }
 ],
 "metadata": {
  "kernelspec": {
   "display_name": "R",
   "language": "R",
   "name": "ir"
  },
  "language_info": {
   "codemirror_mode": "r",
   "file_extension": ".r",
   "mimetype": "text/x-r-source",
   "name": "R",
   "pygments_lexer": "r",
   "version": "4.4.1"
  }
 },
 "nbformat": 4,
 "nbformat_minor": 5
}
