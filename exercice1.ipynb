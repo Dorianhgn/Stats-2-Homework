{
 "cells": [
  {
   "cell_type": "markdown",
   "id": "0467c3d1",
   "metadata": {},
   "source": [
    "# Estimation of parameters from Beta distribution"
   ]
  },
  {
   "cell_type": "code",
   "execution_count": 1,
   "id": "fcaa77a6",
   "metadata": {
    "vscode": {
     "languageId": "r"
    }
   },
   "outputs": [
    {
     "name": "stderr",
     "output_type": "stream",
     "text": [
      "── \u001b[1mAttaching core tidyverse packages\u001b[22m ──────────────────────── tidyverse 2.0.0 ──\n",
      "\u001b[32m✔\u001b[39m \u001b[34mdplyr    \u001b[39m 1.1.4     \u001b[32m✔\u001b[39m \u001b[34mreadr    \u001b[39m 2.1.5\n",
      "\u001b[32m✔\u001b[39m \u001b[34mforcats  \u001b[39m 1.0.0     \u001b[32m✔\u001b[39m \u001b[34mstringr  \u001b[39m 1.5.1\n",
      "\u001b[32m✔\u001b[39m \u001b[34mggplot2  \u001b[39m 3.5.1     \u001b[32m✔\u001b[39m \u001b[34mtibble   \u001b[39m 3.2.1\n",
      "\u001b[32m✔\u001b[39m \u001b[34mlubridate\u001b[39m 1.9.3     \u001b[32m✔\u001b[39m \u001b[34mtidyr    \u001b[39m 1.3.1\n",
      "\u001b[32m✔\u001b[39m \u001b[34mpurrr    \u001b[39m 1.0.2     \n",
      "── \u001b[1mConflicts\u001b[22m ────────────────────────────────────────── tidyverse_conflicts() ──\n",
      "\u001b[31m✖\u001b[39m \u001b[34mdplyr\u001b[39m::\u001b[32mfilter()\u001b[39m masks \u001b[34mstats\u001b[39m::filter()\n",
      "\u001b[31m✖\u001b[39m \u001b[34mdplyr\u001b[39m::\u001b[32mlag()\u001b[39m    masks \u001b[34mstats\u001b[39m::lag()\n",
      "\u001b[36mℹ\u001b[39m Use the conflicted package (\u001b[3m\u001b[34m<http://conflicted.r-lib.org/>\u001b[39m\u001b[23m) to force all conflicts to become errors\n"
     ]
    }
   ],
   "source": [
    "library(tidyverse)"
   ]
  },
  {
   "cell_type": "code",
   "execution_count": 2,
   "id": "7b12530d",
   "metadata": {
    "vscode": {
     "languageId": "r"
    }
   },
   "outputs": [
    {
     "name": "stderr",
     "output_type": "stream",
     "text": [
      "\u001b[1mRows: \u001b[22m\u001b[34m100\u001b[39m \u001b[1mColumns: \u001b[22m\u001b[34m1\u001b[39m\n",
      "\u001b[36m──\u001b[39m \u001b[1mColumn specification\u001b[22m \u001b[36m────────────────────────────────────────────────────────\u001b[39m\n",
      "\u001b[1mDelimiter:\u001b[22m \",\"\n",
      "\u001b[32mdbl\u001b[39m (1): X1\n",
      "\n",
      "\u001b[36mℹ\u001b[39m Use `spec()` to retrieve the full column specification for this data.\n",
      "\u001b[36mℹ\u001b[39m Specify the column types or set `show_col_types = FALSE` to quiet this message.\n"
     ]
    },
    {
     "data": {
      "text/html": [
       "<table class=\"dataframe\">\n",
       "<caption>A tibble: 6 × 1</caption>\n",
       "<thead>\n",
       "\t<tr><th scope=col>X1</th></tr>\n",
       "\t<tr><th scope=col>&lt;dbl&gt;</th></tr>\n",
       "</thead>\n",
       "<tbody>\n",
       "\t<tr><td>0.1391262</td></tr>\n",
       "\t<tr><td>0.2033767</td></tr>\n",
       "\t<tr><td>0.6094788</td></tr>\n",
       "\t<tr><td>0.4325735</td></tr>\n",
       "\t<tr><td>0.7676645</td></tr>\n",
       "\t<tr><td>0.1265060</td></tr>\n",
       "</tbody>\n",
       "</table>\n"
      ],
      "text/latex": [
       "A tibble: 6 × 1\n",
       "\\begin{tabular}{l}\n",
       " X1\\\\\n",
       " <dbl>\\\\\n",
       "\\hline\n",
       "\t 0.1391262\\\\\n",
       "\t 0.2033767\\\\\n",
       "\t 0.6094788\\\\\n",
       "\t 0.4325735\\\\\n",
       "\t 0.7676645\\\\\n",
       "\t 0.1265060\\\\\n",
       "\\end{tabular}\n"
      ],
      "text/markdown": [
       "\n",
       "A tibble: 6 × 1\n",
       "\n",
       "| X1 &lt;dbl&gt; |\n",
       "|---|\n",
       "| 0.1391262 |\n",
       "| 0.2033767 |\n",
       "| 0.6094788 |\n",
       "| 0.4325735 |\n",
       "| 0.7676645 |\n",
       "| 0.1265060 |\n",
       "\n"
      ],
      "text/plain": [
       "  X1       \n",
       "1 0.1391262\n",
       "2 0.2033767\n",
       "3 0.6094788\n",
       "4 0.4325735\n",
       "5 0.7676645\n",
       "6 0.1265060"
      ]
     },
     "metadata": {},
     "output_type": "display_data"
    }
   ],
   "source": [
    "data <- read_csv(\"podatki_1.txt\", col_names = FALSE)\n",
    "head(data)"
   ]
  },
  {
   "cell_type": "markdown",
   "id": "080d9a67",
   "metadata": {},
   "source": [
    "## Maximum Likelihood Estimation (MLE)"
   ]
  },
  {
   "cell_type": "code",
   "execution_count": 5,
   "id": "306f1838",
   "metadata": {
    "vscode": {
     "languageId": "r"
    }
   },
   "outputs": [
    {
     "name": "stdout",
     "output_type": "stream",
     "text": [
      "Estimated parameters:\n",
      "a_ML = 2.432755 \n",
      "b_ML = 3.81518 \n"
     ]
    }
   ],
   "source": [
    "neg_log_likelihood <- function(params) {\n",
    "    a = params[1]\n",
    "    b = params[2]\n",
    "\n",
    "    # check if parameters are valid\n",
    "    if (a <= 0 || b <= 0) {\n",
    "        return(Inf)\n",
    "    }\n",
    "\n",
    "    # compute the negative log-likelihood\n",
    "    - sum(dbeta(data$X1, a, b, log = TRUE))\n",
    "}\n",
    "\n",
    "# intialization\n",
    "params_init <- c(1, 1)\n",
    "\n",
    "# optimize the negative log-likelihood function\n",
    "result <- optim(par = params_init, fn = neg_log_likelihood, method = \"L-BFGS-B\", lower = c(0, 0))\n",
    "\n",
    "# extract the estimated parameters\n",
    "a_ML = result$par[1]\n",
    "b_ML = result$par[2]\n",
    "\n",
    "cat(\"Estimated parameters:\\n\")\n",
    "cat(\"a_ML =\", a_ML, \"\\n\")\n",
    "cat(\"b_ML =\", b_ML, \"\\n\")"
   ]
  },
  {
   "cell_type": "markdown",
   "id": "42057a01",
   "metadata": {},
   "source": [
    "## Method of Moments"
   ]
  },
  {
   "cell_type": "code",
   "execution_count": 9,
   "id": "6312236b",
   "metadata": {
    "vscode": {
     "languageId": "r"
    }
   },
   "outputs": [
    {
     "name": "stdout",
     "output_type": "stream",
     "text": [
      "Method of moments estimates:\n",
      "a_MM = 2.392224 \n",
      "b_MM = 3.766828 \n"
     ]
    }
   ],
   "source": [
    "n = length(data$X1)\n",
    "M1 = mean(data$X1)\n",
    "M2 = mean(data$X1^2)\n",
    "\n",
    "a_MM = M1 * (M1 - M2) / (M2 - M1^2)\n",
    "b_MM = (M1 - M2)*(1 - M1) / (M2 - M1^2)\n",
    "\n",
    "cat(\"Method of moments estimates:\\n\")\n",
    "cat(\"a_MM =\", a_MM, \"\\n\")\n",
    "cat(\"b_MM =\", b_MM, \"\\n\")"
   ]
  },
  {
   "cell_type": "code",
   "execution_count": 44,
   "id": "6af4c1f3",
   "metadata": {
    "vscode": {
     "languageId": "r"
    }
   },
   "outputs": [
    {
     "name": "stdout",
     "output_type": "stream",
     "text": [
      "0.3884078 0.184042"
     ]
    }
   ],
   "source": [
    "cat(M1, M2)"
   ]
  },
  {
   "cell_type": "markdown",
   "id": "64f67530",
   "metadata": {},
   "source": [
    "### Plot the ellipses of the Confidence Region from MM"
   ]
  },
  {
   "cell_type": "code",
   "execution_count": null,
   "id": "96d2742a",
   "metadata": {
    "vscode": {
     "languageId": "r"
    }
   },
   "outputs": [],
   "source": [
    "# install.packages(\"numDeriv\")\n",
    "library(numDeriv)"
   ]
  },
  {
   "cell_type": "code",
   "execution_count": null,
   "id": "104a1dcc",
   "metadata": {
    "vscode": {
     "languageId": "r"
    }
   },
   "outputs": [],
   "source": [
    "# Covariance matrix\n",
    "var_X = M2 - M1^2\n",
    "cov_X_X2 = mean(data$X1^3) - M1*M2\n",
    "var_X2 = mean(data$X1^4) - M2^2\n",
    "\n",
    "Sigma = matrix(c(var_X, cov_X_X2, cov_X_X2, var_X2), nrow = 2, ncol = 2)\n",
    "\n",
    "# Jacobian matrix of g function\n",
    "g <- function(x) {\n",
    "    c(x[1] * (x[1] - x[2]) / (x[2] - x[1]^2),(x[1] - x[2])*(1 - x[1]) / (x[2] - x[1]^2))\n",
    "}\n",
    "\n",
    "J = jacobian(g, c(M1, M2)) # I cheated a bit using this function but typing by hand what the partial derivatives is a bit discouraging..\n",
    "\n",
    "V = solve(J) %*% Sigma %*% t(solve(J)) / n # Division by n for asymptotic covariance matrix as needed in the ellipse function"
   ]
  },
  {
   "cell_type": "code",
   "execution_count": 42,
   "id": "7be30c99",
   "metadata": {
    "vscode": {
     "languageId": "r"
    }
   },
   "outputs": [
    {
     "data": {
      "image/png": "[encoded data removed]",
      "text/plain": [
       "Plot with title \"95% Confidence Ellipsoid for MM Estimator\""
      ]
     },
     "metadata": {
      "image/png": {
       "height": 420,
       "width": 420
      }
     },
     "output_type": "display_data"
    }
   ],
   "source": [
    "library(ellipse)\n",
    "\n",
    "# Compute ellipse points\n",
    "confidence_level <- 0.95\n",
    "\n",
    "ellipse_points <- ellipse(V, centre = c(a_MM, b_MM), level = confidence_level) # automatically treat the chi square distribution as a confidence level\n",
    "\n",
    "# Plot\n",
    "plot(ellipse_points, type = \"l\", col = \"green\", lwd = 2, xlab = \"a\", ylab = \"b\", main = \"95% Confidence Ellipsoid for MM Estimator\")\n",
    "points(a_MM, b_MM, pch = 19, col = \"red\")  # MM estimate\n",
    "grid()"
   ]
  },
  {
   "cell_type": "code",
   "execution_count": null,
   "id": "ff113e62",
   "metadata": {
    "vscode": {
     "languageId": "r"
    }
   },
   "outputs": [],
   "source": []
  }
 ],
 "metadata": {
  "kernelspec": {
   "display_name": "R",
   "language": "R",
   "name": "ir"
  },
  "language_info": {
   "codemirror_mode": "r",
   "file_extension": ".r",
   "mimetype": "text/x-r-source",
   "name": "R",
   "pygments_lexer": "r",
   "version": "4.4.1"
  }
 },
 "nbformat": 4,
 "nbformat_minor": 5
}
